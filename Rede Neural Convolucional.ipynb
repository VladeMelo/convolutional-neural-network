{
 "cells": [
  {
   "cell_type": "code",
   "execution_count": 1,
   "id": "589f965a-523d-4e49-8235-9c4cb53bbc6b",
   "metadata": {},
   "outputs": [],
   "source": [
    "import tensorflow as tf\n",
    "from tensorflow import keras\n",
    "from tensorflow.keras import layers\n",
    "from tensorflow.keras.datasets import cifar10\n",
    "import matplotlib.pyplot as plt"
   ]
  },
  {
   "cell_type": "markdown",
   "id": "74337774-0f98-4ce3-8e30-7da0e53db6cf",
   "metadata": {},
   "source": [
    "## 1. Pré-processamento"
   ]
  },
  {
   "cell_type": "code",
   "execution_count": 2,
   "id": "faf28e56-f139-4201-b05a-0f2dc6fa321f",
   "metadata": {},
   "outputs": [
    {
     "data": {
      "text/plain": [
       "((50000, 32, 32, 3), (50000, 1), (10000, 32, 32, 3), (10000, 1))"
      ]
     },
     "execution_count": 2,
     "metadata": {},
     "output_type": "execute_result"
    }
   ],
   "source": [
    "(x_train, y_train), (x_test, y_test) = cifar10.load_data()\n",
    "\n",
    "x_train.shape, y_train.shape, x_test.shape, y_test.shape"
   ]
  },
  {
   "cell_type": "markdown",
   "id": "4723dff1-3bf0-45a2-8a87-124920a9abf5",
   "metadata": {
    "tags": []
   },
   "source": [
    "#### Explicando o shape (50000, 32, 32, 3)\n",
    "\n",
    "##### imagens = 50000\n",
    "##### pixels = 32x32\n",
    "##### RGB = 3 (a imagem é colorida, então possui 3 canais de cores, RedGreenBue)\n",
    "\n",
    "##### -> Portanto, a entrada para cada imagem terá 32 * 32 * 3 neurónios para a camada de entrada"
   ]
  },
  {
   "cell_type": "code",
   "execution_count": 3,
   "id": "a19a2002-0b6c-44a6-bca8-a40e820954f8",
   "metadata": {},
   "outputs": [],
   "source": [
    "# classes que serão previstas\n",
    "\n",
    "class_names = ['airplane', 'automobile', 'bird', 'cat', 'deer', 'dog', 'frog', 'horse', 'ship', 'truck']"
   ]
  },
  {
   "cell_type": "markdown",
   "id": "0d95558f-e4cf-4c8b-83b1-ab4720e6c9f2",
   "metadata": {},
   "source": [
    "## 2. Normalização das imagens"
   ]
  },
  {
   "cell_type": "code",
   "execution_count": 4,
   "id": "f663c774-4775-4cd5-99f3-ab42983e96e0",
   "metadata": {},
   "outputs": [],
   "source": [
    "x_train = x_train / 255\n",
    "x_test = x_test / 255"
   ]
  },
  {
   "cell_type": "code",
   "execution_count": 17,
   "id": "e55e3fa8-c4ba-4a85-bbb4-537b58273d9f",
   "metadata": {},
   "outputs": [
    {
     "data": {
      "text/plain": [
       "<matplotlib.image.AxesImage at 0x2ea0a81ab20>"
      ]
     },
     "execution_count": 17,
     "metadata": {},
     "output_type": "execute_result"
    },
    {
     "data": {
      "image/png": "[encoded data removed]",
      "text/plain": [
       "<Figure size 640x480 with 1 Axes>"
      ]
     },
     "metadata": {},
     "output_type": "display_data"
    }
   ],
   "source": [
    "plt.imshow(x_test[13])"
   ]
  },
  {
   "cell_type": "markdown",
   "id": "4ffb5827-b382-48db-933d-7b57e9ad5912",
   "metadata": {},
   "source": [
    "## 3. Rede Neural Convolucional"
   ]
  },
  {
   "cell_type": "code",
   "execution_count": 11,
   "id": "dd06d377-31dc-4fcb-b213-e7266e03b10d",
   "metadata": {},
   "outputs": [],
   "source": [
    "# obs.: uma boa prática é usar o padding same para a Camada de Convolução e valida para a Camada de Pooling\n",
    "\n",
    "model = keras.Sequential([\n",
    "    layers.Input((32, 32, 3)),\n",
    "    layers.Conv2D(filters=32, kernel_size=3, padding='same', activation='relu'), # 32 Kernels, Matriz do Kernel 3x3\n",
    "    layers.Conv2D(filters=32, kernel_size=3, padding='same', activation='relu'),\n",
    "    layers.MaxPool2D(pool_size=3, strides=2, padding='valid'), # Matriz do Pooling 2x2, pula de 2 em 2 colunas para fazer o cálculo do Pooling \n",
    "    layers.Conv2D(filters=64, kernel_size=3, padding='same', activation='relu'),\n",
    "    layers.MaxPool2D(pool_size=3, strides=2, padding='valid'),\n",
    "    layers.Flatten(),\n",
    "    layers.Dense(128, activation='relu'),\n",
    "    layers.Dropout(0.2),\n",
    "    layers.Dense(10, activation='softmax')\n",
    "])"
   ]
  },
  {
   "cell_type": "code",
   "execution_count": 12,
   "id": "92a08eaf-79db-4ac5-b9a2-6cf9c7f293bc",
   "metadata": {},
   "outputs": [
    {
     "name": "stdout",
     "output_type": "stream",
     "text": [
      "Model: \"sequential_1\"\n",
      "_________________________________________________________________\n",
      " Layer (type)                Output Shape              Param #   \n",
      "=================================================================\n",
      " conv2d_3 (Conv2D)           (None, 32, 32, 32)        896       \n",
      "                                                                 \n",
      " conv2d_4 (Conv2D)           (None, 32, 32, 32)        9248      \n",
      "                                                                 \n",
      " max_pooling2d_2 (MaxPooling  (None, 15, 15, 32)       0         \n",
      " 2D)                                                             \n",
      "                                                                 \n",
      " conv2d_5 (Conv2D)           (None, 15, 15, 64)        18496     \n",
      "                                                                 \n",
      " max_pooling2d_3 (MaxPooling  (None, 7, 7, 64)         0         \n",
      " 2D)                                                             \n",
      "                                                                 \n",
      " flatten_1 (Flatten)         (None, 3136)              0         \n",
      "                                                                 \n",
      " dense_2 (Dense)             (None, 128)               401536    \n",
      "                                                                 \n",
      " dropout (Dropout)           (None, 128)               0         \n",
      "                                                                 \n",
      " dense_3 (Dense)             (None, 10)                1290      \n",
      "                                                                 \n",
      "=================================================================\n",
      "Total params: 431,466\n",
      "Trainable params: 431,466\n",
      "Non-trainable params: 0\n",
      "_________________________________________________________________\n"
     ]
    }
   ],
   "source": [
    "model.summary()"
   ]
  },
  {
   "cell_type": "code",
   "execution_count": 13,
   "id": "d2c295ea-4be9-479a-8efb-254c17b9e088",
   "metadata": {},
   "outputs": [],
   "source": [
    "model.compile(optimizer='adam', loss='sparse_categorical_crossentropy', metrics=['sparse_categorical_accuracy'])"
   ]
  },
  {
   "cell_type": "code",
   "execution_count": 14,
   "id": "e82784f9-99d4-4ce3-89d3-2bee3677caa8",
   "metadata": {},
   "outputs": [
    {
     "name": "stdout",
     "output_type": "stream",
     "text": [
      "Epoch 1/2\n",
      "1563/1563 [==============================] - 163s 104ms/step - loss: 1.4179 - sparse_categorical_accuracy: 0.4880 - val_loss: 1.0122 - val_sparse_categorical_accuracy: 0.6531\n",
      "Epoch 2/2\n",
      "1563/1563 [==============================] - 162s 104ms/step - loss: 0.9955 - sparse_categorical_accuracy: 0.6512 - val_loss: 0.8944 - val_sparse_categorical_accuracy: 0.6920\n"
     ]
    },
    {
     "data": {
      "text/plain": [
       "<keras.callbacks.History at 0x2ea081547c0>"
      ]
     },
     "execution_count": 14,
     "metadata": {},
     "output_type": "execute_result"
    }
   ],
   "source": [
    "model.fit(x=x_train, y=y_train, validation_data=(x_test, y_test), epochs=2)"
   ]
  }
 ],
 "metadata": {
  "kernelspec": {
   "display_name": "Python 3 (ipykernel)",
   "language": "python",
   "name": "python3"
  },
  "language_info": {
   "codemirror_mode": {
    "name": "ipython",
    "version": 3
   },
   "file_extension": ".py",
   "mimetype": "text/x-python",
   "name": "python",
   "nbconvert_exporter": "python",
   "pygments_lexer": "ipython3",
   "version": "3.9.12"
  }
 },
 "nbformat": 4,
 "nbformat_minor": 5
}
